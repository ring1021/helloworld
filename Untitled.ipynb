{
 "cells": [
  {
   "cell_type": "code",
   "execution_count": 1,
   "metadata": {},
   "outputs": [
    {
     "name": "stdout",
     "output_type": "stream",
     "text": [
      "Welcome to CPS 1231 Class @ WKU!\r\n"
     ]
    }
   ],
   "source": [
    "System.out.println(\"Welcome to CPS 1231 Class @ WKU!\")"
   ]
  },
  {
   "cell_type": "code",
   "execution_count": 2,
   "metadata": {},
   "outputs": [
    {
     "name": "stdout",
     "output_type": "stream",
     "text": [
      "   Celsius  Fahrenheit  |  Fahrenheit   Celsius\n",
      "---------------------------------------------\n",
      "         0    32.000    |          20    -6.667\n",
      "         2    35.600    |          25    -3.889\n",
      "         4    39.200    |          30    -1.111\n",
      "         6    42.800    |          35     1.667\n",
      "         8    46.400    |          40     4.444\n",
      "        10    50.000    |          45     7.222\n",
      "        12    53.600    |          50    10.000\n",
      "        14    57.200    |          55    12.778\n",
      "        16    60.800    |          60    15.556\n",
      "        18    64.400    |          65    18.333\n",
      "        20    68.000    |          70    21.111\n",
      "        22    71.600    |          75    23.889\n",
      "        24    75.200    |          80    26.667\n",
      "        26    78.800    |          85    29.444\n",
      "        28    82.400    |          90    32.222\n",
      "        30    86.000    |          95    35.000\n",
      "        32    89.600    |         100    37.778\n",
      "        34    93.200    |         105    40.556\n",
      "        36    96.800    |         110    43.333\n",
      "        38   100.400    |         115    46.111\n",
      "        40   104.000    |         120    48.889\n",
      "        42   107.600    |         125    51.667\n",
      "        44   111.200    |         130    54.444\n",
      "        46   114.800    |         135    57.222\n",
      "        48   118.400    |         140    60.000\n",
      "        50   122.000    |         145    62.778\n",
      "        52   125.600    |         150    65.556\n",
      "        54   129.200    |         155    68.333\n",
      "        56   132.800    |         160    71.111\n",
      "        58   136.400    |         165    73.889\n",
      "        60   140.000    |         170    76.667\n",
      "        62   143.600    |         175    79.444\n",
      "        64   147.200    |         180    82.222\n",
      "        66   150.800    |         185    85.000\n",
      "        68   154.400    |         190    87.778\n",
      "        70   158.000    |         195    90.556\n",
      "        72   161.600    |         200    93.333\n",
      "        74   165.200    |         205    96.111\n",
      "        76   168.800    |         210    98.889\n",
      "        78   172.400    |         215   101.667\n",
      "        80   176.000    |         220   104.444\n",
      "        82   179.600    |         225   107.222\n",
      "        84   183.200    |         230   110.000\n",
      "        86   186.800    |         235   112.778\n",
      "        88   190.400    |         240   115.556\n",
      "        90   194.000    |         245   118.333\n",
      "        92   197.600    |         250   121.111\n",
      "        94   201.200    |         255   123.889\n",
      "        96   204.800    |         260   126.667\n",
      "        98   208.400    |         265   129.444\n",
      "       100   212.000    |         270   132.222\n"
     ]
    }
   ],
   "source": [
    "System.out.printf(\"%10s%10s  |  %10s%10s\\n\", \"Celsius\", \"  Fahrenheit\",  \"Fahrenheit\", \"Celsius\");\n",
    "System.out.println(\"---------------------------------------------\");\n",
    "                            \n",
    "// Use while loop\n",
    "int celsius = 0;\n",
    "int fahrenheit = 20;\n",
    "int count = 0;\n",
    "while (count <= 50) {\n",
    "    System.out.printf(\"%10d%10.3f    |  %10d%10.3f\\n\", celsius, celsius * 9/5. + 32, fahrenheit, (fahrenheit -32) *5/9.);\n",
    "    celsius += 2;\n",
    "    fahrenheit += 5;\n",
    "    count++;\n",
    " }"
   ]
  },
  {
   "cell_type": "code",
   "execution_count": 3,
   "metadata": {},
   "outputs": [
    {
     "name": "stdout",
     "output_type": "stream",
     "text": [
      "Welcome to CPS 1231 Class @ WKU!\n",
      "Welcome to CPS 1231 Class @ WKU!\n",
      "Welcome to CPS 1231 Class @ WKU!\n"
     ]
    }
   ],
   "source": []
  },
  {
   "cell_type": "code",
   "execution_count": 4,
   "metadata": {},
   "outputs": [
    {
     "name": "stdout",
     "output_type": "stream",
     "text": [
      "Welcome to CPS 1231 Class @ WKU!\n",
      "Welcome to CPS 1231 Class @ WKU!\n",
      "Welcome to CPS 1231 Class @ WKU!\n",
      "Welcome to CPS 1231 Class @ WKU!\n",
      "Welcome to CPS 1231 Class @ WKU!\n"
     ]
    }
   ],
   "source": [
    "System.out.println(\"Welcome to CPS 1231 Class @ WKU!\");\n",
    "System.out.println(\"Welcome to CPS 1231 Class @ WKU!\");\n",
    "System.out.println(\"Welcome to CPS 1231 Class @ WKU!\");\n",
    "System.out.println(\"Welcome to CPS 1231 Class @ WKU!\");\n",
    "System.out.println(\"Welcome to CPS 1231 Class @ WKU!\");"
   ]
  },
  {
   "cell_type": "code",
   "execution_count": null,
   "metadata": {},
   "outputs": [],
   "source": []
  },
  {
   "cell_type": "code",
   "execution_count": null,
   "metadata": {},
   "outputs": [],
   "source": []
  }
 ],
 "metadata": {
  "kernelspec": {
   "display_name": "Java",
   "language": "java",
   "name": "java"
  },
  "language_info": {
   "codemirror_mode": "java",
   "file_extension": ".jshell",
   "mimetype": "text/x-java-source",
   "name": "Java",
   "pygments_lexer": "java",
   "version": "13.0.1+9"
  }
 },
 "nbformat": 4,
 "nbformat_minor": 2
}
